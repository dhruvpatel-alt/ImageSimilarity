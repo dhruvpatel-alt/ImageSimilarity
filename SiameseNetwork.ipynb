{
  "cells": [
    {
      "cell_type": "code",
      "execution_count": null,
      "metadata": {
        "colab": {
          "base_uri": "https://localhost:8080/"
        },
        "id": "KrZCZb1ovJtb",
        "outputId": "4470acb8-d74a-4579-aea6-d74306caa787"
      },
      "outputs": [
        {
          "output_type": "stream",
          "name": "stdout",
          "text": [
            "Requirement already satisfied: tensorflow in /usr/local/lib/python3.10/dist-packages (2.14.0)\n",
            "Requirement already satisfied: absl-py>=1.0.0 in /usr/local/lib/python3.10/dist-packages (from tensorflow) (1.4.0)\n",
            "Requirement already satisfied: astunparse>=1.6.0 in /usr/local/lib/python3.10/dist-packages (from tensorflow) (1.6.3)\n",
            "Requirement already satisfied: flatbuffers>=23.5.26 in /usr/local/lib/python3.10/dist-packages (from tensorflow) (23.5.26)\n",
            "Requirement already satisfied: gast!=0.5.0,!=0.5.1,!=0.5.2,>=0.2.1 in /usr/local/lib/python3.10/dist-packages (from tensorflow) (0.5.4)\n",
            "Requirement already satisfied: google-pasta>=0.1.1 in /usr/local/lib/python3.10/dist-packages (from tensorflow) (0.2.0)\n",
            "Requirement already satisfied: h5py>=2.9.0 in /usr/local/lib/python3.10/dist-packages (from tensorflow) (3.9.0)\n",
            "Requirement already satisfied: libclang>=13.0.0 in /usr/local/lib/python3.10/dist-packages (from tensorflow) (16.0.6)\n",
            "Requirement already satisfied: ml-dtypes==0.2.0 in /usr/local/lib/python3.10/dist-packages (from tensorflow) (0.2.0)\n",
            "Requirement already satisfied: numpy>=1.23.5 in /usr/local/lib/python3.10/dist-packages (from tensorflow) (1.23.5)\n",
            "Requirement already satisfied: opt-einsum>=2.3.2 in /usr/local/lib/python3.10/dist-packages (from tensorflow) (3.3.0)\n",
            "Requirement already satisfied: packaging in /usr/local/lib/python3.10/dist-packages (from tensorflow) (23.2)\n",
            "Requirement already satisfied: protobuf!=4.21.0,!=4.21.1,!=4.21.2,!=4.21.3,!=4.21.4,!=4.21.5,<5.0.0dev,>=3.20.3 in /usr/local/lib/python3.10/dist-packages (from tensorflow) (3.20.3)\n",
            "Requirement already satisfied: setuptools in /usr/local/lib/python3.10/dist-packages (from tensorflow) (67.7.2)\n",
            "Requirement already satisfied: six>=1.12.0 in /usr/local/lib/python3.10/dist-packages (from tensorflow) (1.16.0)\n",
            "Requirement already satisfied: termcolor>=1.1.0 in /usr/local/lib/python3.10/dist-packages (from tensorflow) (2.3.0)\n",
            "Requirement already satisfied: typing-extensions>=3.6.6 in /usr/local/lib/python3.10/dist-packages (from tensorflow) (4.5.0)\n",
            "Requirement already satisfied: wrapt<1.15,>=1.11.0 in /usr/local/lib/python3.10/dist-packages (from tensorflow) (1.14.1)\n",
            "Requirement already satisfied: tensorflow-io-gcs-filesystem>=0.23.1 in /usr/local/lib/python3.10/dist-packages (from tensorflow) (0.34.0)\n",
            "Requirement already satisfied: grpcio<2.0,>=1.24.3 in /usr/local/lib/python3.10/dist-packages (from tensorflow) (1.59.2)\n",
            "Requirement already satisfied: tensorboard<2.15,>=2.14 in /usr/local/lib/python3.10/dist-packages (from tensorflow) (2.14.1)\n",
            "Requirement already satisfied: tensorflow-estimator<2.15,>=2.14.0 in /usr/local/lib/python3.10/dist-packages (from tensorflow) (2.14.0)\n",
            "Requirement already satisfied: keras<2.15,>=2.14.0 in /usr/local/lib/python3.10/dist-packages (from tensorflow) (2.14.0)\n",
            "Requirement already satisfied: wheel<1.0,>=0.23.0 in /usr/local/lib/python3.10/dist-packages (from astunparse>=1.6.0->tensorflow) (0.41.3)\n",
            "Requirement already satisfied: google-auth<3,>=1.6.3 in /usr/local/lib/python3.10/dist-packages (from tensorboard<2.15,>=2.14->tensorflow) (2.17.3)\n",
            "Requirement already satisfied: google-auth-oauthlib<1.1,>=0.5 in /usr/local/lib/python3.10/dist-packages (from tensorboard<2.15,>=2.14->tensorflow) (1.0.0)\n",
            "Requirement already satisfied: markdown>=2.6.8 in /usr/local/lib/python3.10/dist-packages (from tensorboard<2.15,>=2.14->tensorflow) (3.5.1)\n",
            "Requirement already satisfied: requests<3,>=2.21.0 in /usr/local/lib/python3.10/dist-packages (from tensorboard<2.15,>=2.14->tensorflow) (2.31.0)\n",
            "Requirement already satisfied: tensorboard-data-server<0.8.0,>=0.7.0 in /usr/local/lib/python3.10/dist-packages (from tensorboard<2.15,>=2.14->tensorflow) (0.7.2)\n",
            "Requirement already satisfied: werkzeug>=1.0.1 in /usr/local/lib/python3.10/dist-packages (from tensorboard<2.15,>=2.14->tensorflow) (3.0.1)\n",
            "Requirement already satisfied: cachetools<6.0,>=2.0.0 in /usr/local/lib/python3.10/dist-packages (from google-auth<3,>=1.6.3->tensorboard<2.15,>=2.14->tensorflow) (5.3.2)\n",
            "Requirement already satisfied: pyasn1-modules>=0.2.1 in /usr/local/lib/python3.10/dist-packages (from google-auth<3,>=1.6.3->tensorboard<2.15,>=2.14->tensorflow) (0.3.0)\n",
            "Requirement already satisfied: rsa<5,>=3.1.4 in /usr/local/lib/python3.10/dist-packages (from google-auth<3,>=1.6.3->tensorboard<2.15,>=2.14->tensorflow) (4.9)\n",
            "Requirement already satisfied: requests-oauthlib>=0.7.0 in /usr/local/lib/python3.10/dist-packages (from google-auth-oauthlib<1.1,>=0.5->tensorboard<2.15,>=2.14->tensorflow) (1.3.1)\n",
            "Requirement already satisfied: charset-normalizer<4,>=2 in /usr/local/lib/python3.10/dist-packages (from requests<3,>=2.21.0->tensorboard<2.15,>=2.14->tensorflow) (3.3.2)\n",
            "Requirement already satisfied: idna<4,>=2.5 in /usr/local/lib/python3.10/dist-packages (from requests<3,>=2.21.0->tensorboard<2.15,>=2.14->tensorflow) (3.4)\n",
            "Requirement already satisfied: urllib3<3,>=1.21.1 in /usr/local/lib/python3.10/dist-packages (from requests<3,>=2.21.0->tensorboard<2.15,>=2.14->tensorflow) (2.0.7)\n",
            "Requirement already satisfied: certifi>=2017.4.17 in /usr/local/lib/python3.10/dist-packages (from requests<3,>=2.21.0->tensorboard<2.15,>=2.14->tensorflow) (2023.7.22)\n",
            "Requirement already satisfied: MarkupSafe>=2.1.1 in /usr/local/lib/python3.10/dist-packages (from werkzeug>=1.0.1->tensorboard<2.15,>=2.14->tensorflow) (2.1.3)\n",
            "Requirement already satisfied: pyasn1<0.6.0,>=0.4.6 in /usr/local/lib/python3.10/dist-packages (from pyasn1-modules>=0.2.1->google-auth<3,>=1.6.3->tensorboard<2.15,>=2.14->tensorflow) (0.5.0)\n",
            "Requirement already satisfied: oauthlib>=3.0.0 in /usr/local/lib/python3.10/dist-packages (from requests-oauthlib>=0.7.0->google-auth-oauthlib<1.1,>=0.5->tensorboard<2.15,>=2.14->tensorflow) (3.2.2)\n",
            "Model: \"model\"\n",
            "__________________________________________________________________________________________________\n",
            " Layer (type)                Output Shape                 Param #   Connected to                  \n",
            "==================================================================================================\n",
            " img_A_inp (InputLayer)      [(None, 28, 28)]             0         []                            \n",
            "                                                                                                  \n",
            " img_B_inp (InputLayer)      [(None, 28, 28)]             0         []                            \n",
            "                                                                                                  \n",
            " sequential_4 (Sequential)   (None, 64)                   1586496   ['img_A_inp[0][0]',           \n",
            "                                                                     'img_B_inp[0][0]']           \n",
            "                                                                                                  \n",
            " concatenate (Concatenate)   (None, 128)                  0         ['sequential_4[0][0]',        \n",
            "                                                                     'sequential_4[1][0]']        \n",
            "                                                                                                  \n",
            " dense_1 (Dense)             (None, 64)                   8256      ['concatenate[0][0]']         \n",
            "                                                                                                  \n",
            " dense_2 (Dense)             (None, 1)                    65        ['dense_1[0][0]']             \n",
            "                                                                                                  \n",
            "==================================================================================================\n",
            "Total params: 1594817 (6.08 MB)\n",
            "Trainable params: 1592897 (6.08 MB)\n",
            "Non-trainable params: 1920 (7.50 KB)\n",
            "__________________________________________________________________________________________________\n"
          ]
        }
      ],
      "source": [
        "!pip install tensorflow\n",
        "\n",
        "from tensorflow.keras.layers import *\n",
        "from tensorflow.keras.models import Sequential, Model\n",
        "\n",
        "\n",
        "img_A_inp = Input((28, 28), name='img_A_inp')\n",
        "img_B_inp = Input((28, 28), name='img_B_inp')\n",
        "\n",
        "def get_cnn_block(depth):\n",
        "  return Sequential([Conv2D(depth, 3, 1),\n",
        "                     BatchNormalization(),\n",
        "                     ReLU()])\n",
        "\n",
        "DEPTH = 64\n",
        "cnn = Sequential([Reshape((28, 28, 1)),\n",
        "                  get_cnn_block(DEPTH),\n",
        "                  get_cnn_block(DEPTH*2),\n",
        "                  get_cnn_block(DEPTH*4),\n",
        "                  get_cnn_block(DEPTH*8),\n",
        "                  GlobalAveragePooling2D(),\n",
        "                  Dense(64, activation='relu')])\n",
        "\n",
        "feature_vector_A = cnn(img_A_inp)\n",
        "feature_vector_B = cnn(img_B_inp)\n",
        "\n",
        "concat = Concatenate()([feature_vector_A, feature_vector_B])\n",
        "\n",
        "dense = Dense(64, activation='relu')(concat)\n",
        "output = Dense(1, activation='sigmoid')(dense)\n",
        "\n",
        "model = Model(inputs=[img_A_inp, img_B_inp], outputs=output)\n",
        "\n",
        "model.summary()"
      ]
    },
    {
      "cell_type": "code",
      "source": [
        "from google.colab import drive\n",
        "drive.mount('/content/drive')\n",
        "%cd '/content/drive/MyDrive/'\n"
      ],
      "metadata": {
        "colab": {
          "base_uri": "https://localhost:8080/"
        },
        "id": "MoIUeS1w2P-S",
        "outputId": "e43cb98e-0c6d-4922-b7db-7882d1d32ea3"
      },
      "execution_count": null,
      "outputs": [
        {
          "output_type": "stream",
          "name": "stdout",
          "text": [
            "Mounted at /content/drive\n",
            "/content/drive/MyDrive\n"
          ]
        }
      ]
    },
    {
      "cell_type": "code",
      "execution_count": null,
      "metadata": {
        "id": "t8g6uhz50ibH"
      },
      "outputs": [],
      "source": [
        "import os\n",
        "import cv2\n",
        "import numpy as np\n",
        "from sklearn.model_selection import train_test_split"
      ]
    },
    {
      "cell_type": "code",
      "execution_count": null,
      "metadata": {
        "id": "Jmj2-mIBd0Ea"
      },
      "outputs": [],
      "source": [
        "# Define the paths to your image folders\n",
        "hat_folder = \"./Data/Hats\"\n",
        "shirt_folder = \"./Data/Shirts\"\n",
        "hoodie_folder = \"./Data/Hoodies\"\n",
        "\n",
        "# Define the target size for resizing images\n",
        "target_size = (28, 28)"
      ]
    },
    {
      "cell_type": "code",
      "execution_count": null,
      "metadata": {
        "id": "1TsnNMWJfiYg"
      },
      "outputs": [],
      "source": [
        "# Load and preprocess the images from each category\n",
        "def load_images_from_folder(folder, label):\n",
        "    images = []\n",
        "    labels = []\n",
        "    for filename in os.listdir(folder):\n",
        "        if filename.endswith(\".png\"):\n",
        "            img_path = os.path.join(folder, filename)\n",
        "            img = cv2.imread(img_path, cv2.IMREAD_GRAYSCALE)  # Read as grayscale\n",
        "            img = cv2.resize(img, target_size)  # Resize to target size\n",
        "            img = img / 255.0  # Normalize pixel values to [0, 1]\n",
        "            images.append(img)\n",
        "            labels.append(label)\n",
        "    return images, labels"
      ]
    },
    {
      "cell_type": "code",
      "execution_count": null,
      "metadata": {
        "id": "RH-ozSz11hSH"
      },
      "outputs": [],
      "source": [
        "hat_images, hat_labels = load_images_from_folder(hat_folder, label=0)  # Label 0 for hats\n",
        "shirt_images, shirt_labels = load_images_from_folder(shirt_folder, label=1)  # Label 1 for shirts\n",
        "hoodie_images, hoodie_labels = load_images_from_folder(hoodie_folder, label=2)  # Label 2 for hoodies\n"
      ]
    },
    {
      "cell_type": "code",
      "execution_count": null,
      "metadata": {
        "id": "blY1pGjIAz8Q"
      },
      "outputs": [],
      "source": [
        "# Combine data and labels for all categories\n",
        "images = np.array(hat_images + shirt_images + hoodie_images)\n",
        "labels = np.array(hat_labels + shirt_labels + hoodie_labels)"
      ]
    },
    {
      "cell_type": "code",
      "execution_count": null,
      "metadata": {
        "id": "K879uw2wBq-J"
      },
      "outputs": [],
      "source": [
        "X_train, X_test, y_train, y_test = train_test_split(images, labels, test_size=0.1, random_state=42)\n"
      ]
    },
    {
      "cell_type": "code",
      "execution_count": null,
      "metadata": {
        "id": "8bm3EQpCB5ND"
      },
      "outputs": [],
      "source": [
        "# Create pairs of images and their labels (0 for dissimilar, 1 for similar)\n",
        "def create_image_pairs(X, y):\n",
        "    pairs, pair_labels = [], []\n",
        "    for i in range(len(X)):\n",
        "      for j in range(i+1, len(X)):\n",
        "        img1, img2 = X[i], X[j]\n",
        "        if y[i] == y[j]:  # Similar images\n",
        "            pair_labels.append(1)\n",
        "        else:  # Dissimilar images\n",
        "            pair_labels.append(0)\n",
        "        pairs.append([img1, img2])\n",
        "\n",
        "    return np.array(pairs), np.array(pair_labels)"
      ]
    },
    {
      "cell_type": "code",
      "execution_count": null,
      "metadata": {
        "id": "54vDSgBC1fo6",
        "colab": {
          "base_uri": "https://localhost:8080/"
        },
        "outputId": "d8173861-8ebd-4fc6-e5b5-f908d3e43fa2"
      },
      "outputs": [
        {
          "output_type": "execute_result",
          "data": {
            "text/plain": [
              "((1431, 2, 28, 28), (1431,))"
            ]
          },
          "metadata": {},
          "execution_count": 37
        }
      ],
      "source": [
        "X_train_pairs, y_train_pairs = create_image_pairs(X_train, y_train)\n",
        "X_test_pairs, y_test_pairs = create_image_pairs(X_test, y_test)\n",
        "X_train_pairs.shape, y_train_pairs.shape"
      ]
    },
    {
      "cell_type": "code",
      "execution_count": null,
      "metadata": {
        "id": "HE3on-h81vMK"
      },
      "outputs": [],
      "source": [
        "import tensorflow as tf\n",
        "\n",
        "model.compile(loss='binary_crossentropy',\n",
        "              optimizer=tf.keras.optimizers.Adam(learning_rate=0.001),\n",
        "              metrics=['accuracy'])"
      ]
    },
    {
      "cell_type": "code",
      "execution_count": null,
      "metadata": {
        "id": "itGgj6qG1_ya"
      },
      "outputs": [],
      "source": [
        "from tensorflow.keras.callbacks import EarlyStopping\n",
        "\n",
        "es = EarlyStopping(patience=3)"
      ]
    },
    {
      "cell_type": "code",
      "execution_count": null,
      "metadata": {
        "id": "LZwBOlao2DQq",
        "colab": {
          "base_uri": "https://localhost:8080/"
        },
        "outputId": "19f6cd1a-0cb6-4c1e-81f8-56651c8d3c83"
      },
      "outputs": [
        {
          "output_type": "stream",
          "name": "stdout",
          "text": [
            "Epoch 1/1000\n",
            "45/45 [==============================] - 2s 48ms/step - loss: 0.0215 - accuracy: 0.9944 - val_loss: 2.6491 - val_accuracy: 0.2667\n",
            "Epoch 2/1000\n",
            "45/45 [==============================] - 2s 47ms/step - loss: 0.0031 - accuracy: 1.0000 - val_loss: 1.0140 - val_accuracy: 0.8667\n",
            "Epoch 3/1000\n",
            "45/45 [==============================] - 2s 50ms/step - loss: 0.0032 - accuracy: 0.9993 - val_loss: 0.2599 - val_accuracy: 0.8667\n",
            "Epoch 4/1000\n",
            "45/45 [==============================] - 2s 50ms/step - loss: 0.0013 - accuracy: 1.0000 - val_loss: 0.0038 - val_accuracy: 1.0000\n",
            "Epoch 5/1000\n",
            "45/45 [==============================] - 2s 49ms/step - loss: 0.0011 - accuracy: 1.0000 - val_loss: 0.0011 - val_accuracy: 1.0000\n",
            "Epoch 6/1000\n",
            "45/45 [==============================] - 2s 47ms/step - loss: 6.4802e-04 - accuracy: 1.0000 - val_loss: 6.3953e-04 - val_accuracy: 1.0000\n",
            "Epoch 7/1000\n",
            "45/45 [==============================] - 2s 47ms/step - loss: 4.8925e-04 - accuracy: 1.0000 - val_loss: 5.4848e-04 - val_accuracy: 1.0000\n",
            "Epoch 8/1000\n",
            "45/45 [==============================] - 2s 47ms/step - loss: 4.5673e-04 - accuracy: 1.0000 - val_loss: 5.5036e-04 - val_accuracy: 1.0000\n",
            "Epoch 9/1000\n",
            "45/45 [==============================] - 2s 47ms/step - loss: 3.1548e-04 - accuracy: 1.0000 - val_loss: 4.5964e-04 - val_accuracy: 1.0000\n",
            "Epoch 10/1000\n",
            "45/45 [==============================] - 2s 48ms/step - loss: 2.8335e-04 - accuracy: 1.0000 - val_loss: 2.1316e-04 - val_accuracy: 1.0000\n",
            "Epoch 11/1000\n",
            "45/45 [==============================] - 3s 63ms/step - loss: 0.0162 - accuracy: 0.9930 - val_loss: 10.3487 - val_accuracy: 0.4667\n",
            "Epoch 12/1000\n",
            "45/45 [==============================] - 3s 60ms/step - loss: 0.0478 - accuracy: 0.9902 - val_loss: 1.0154 - val_accuracy: 0.8667\n",
            "Epoch 13/1000\n",
            "45/45 [==============================] - 2s 54ms/step - loss: 0.0014 - accuracy: 1.0000 - val_loss: 7.2812e-04 - val_accuracy: 1.0000\n"
          ]
        },
        {
          "output_type": "execute_result",
          "data": {
            "text/plain": [
              "<keras.src.callbacks.History at 0x78db995f32e0>"
            ]
          },
          "metadata": {},
          "execution_count": 38
        }
      ],
      "source": [
        "model.fit(x=[X_train_pairs[:, 0, :, :], X_train_pairs[:, 1, :, :]],\n",
        "          y=y_train_pairs,\n",
        "          validation_data=([X_test_pairs[:, 0, :, :],\n",
        "                            X_test_pairs[:, 1, :, :]],\n",
        "                           y_test_pairs),\n",
        "          epochs=1000,\n",
        "          batch_size=32,\n",
        "          callbacks=[es])"
      ]
    },
    {
      "cell_type": "code",
      "execution_count": null,
      "metadata": {
        "id": "wvAX-jH22L15"
      },
      "outputs": [],
      "source": [
        "img_A, img_B = X_test[3], X_test[4]"
      ]
    },
    {
      "cell_type": "code",
      "execution_count": null,
      "metadata": {
        "id": "FYYVE4Vn2c-H",
        "colab": {
          "base_uri": "https://localhost:8080/",
          "height": 150
        },
        "outputId": "c4c58b78-77e3-41a9-c410-2e1d56ff7113"
      },
      "outputs": [
        {
          "output_type": "execute_result",
          "data": {
            "text/plain": [
              "<matplotlib.image.AxesImage at 0x78db996098d0>"
            ]
          },
          "metadata": {},
          "execution_count": 40
        },
        {
          "output_type": "display_data",
          "data": {
            "text/plain": [
              "<Figure size 179.2x134.4 with 1 Axes>"
            ],
            "image/png": "[encoded data removed]"
          },
          "metadata": {}
        }
      ],
      "source": [
        "import matplotlib.pyplot as plt\n",
        "\n",
        "plt.figure(dpi=28)\n",
        "plt.imshow(img_A)"
      ]
    },
    {
      "cell_type": "code",
      "execution_count": null,
      "metadata": {
        "id": "wX0ziyjx2enh",
        "colab": {
          "base_uri": "https://localhost:8080/",
          "height": 150
        },
        "outputId": "f31d1901-b75e-4099-b206-532f2b6b502a"
      },
      "outputs": [
        {
          "output_type": "execute_result",
          "data": {
            "text/plain": [
              "<matplotlib.image.AxesImage at 0x78db994d5960>"
            ]
          },
          "metadata": {},
          "execution_count": 50
        },
        {
          "output_type": "display_data",
          "data": {
            "text/plain": [
              "<Figure size 179.2x134.4 with 1 Axes>"
            ],
            "image/png": "[encoded data removed]"
          },
          "metadata": {}
        }
      ],
      "source": [
        "import matplotlib.pyplot as plt\n",
        "\n",
        "plt.figure(dpi=28)\n",
        "plt.imshow(img_B)"
      ]
    },
    {
      "cell_type": "code",
      "execution_count": null,
      "metadata": {
        "id": "tQ74fEd82ktG",
        "colab": {
          "base_uri": "https://localhost:8080/"
        },
        "outputId": "067dcd80-a04f-4f1b-9831-db56ad70ae06"
      },
      "outputs": [
        {
          "output_type": "stream",
          "name": "stdout",
          "text": [
            "1/1 [==============================] - 0s 19ms/step\n"
          ]
        },
        {
          "output_type": "execute_result",
          "data": {
            "text/plain": [
              "8.162846e-05"
            ]
          },
          "metadata": {},
          "execution_count": 51
        }
      ],
      "source": [
        "model.predict([img_A.reshape((1, 28, 28)),\n",
        "               img_B.reshape((1, 28, 28))]).flatten()[0]"
      ]
    }
  ],
  "metadata": {
    "accelerator": "GPU",
    "colab": {
      "gpuType": "T4",
      "provenance": []
    },
    "kernelspec": {
      "display_name": "Python 3",
      "name": "python3"
    },
    "language_info": {
      "codemirror_mode": {
        "name": "ipython",
        "version": 3
      },
      "file_extension": ".py",
      "mimetype": "text/x-python",
      "name": "python",
      "nbconvert_exporter": "python",
      "pygments_lexer": "ipython3",
      "version": "3.9.13"
    }
  },
  "nbformat": 4,
  "nbformat_minor": 0
}